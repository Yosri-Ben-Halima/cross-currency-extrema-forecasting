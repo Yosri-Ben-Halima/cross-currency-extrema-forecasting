{
 "cells": [
  {
   "cell_type": "markdown",
   "id": "21bb4a83",
   "metadata": {},
   "source": [
    "<h1 style=\"text-align: center;\">Modelling & Benchmarking</h1>\n"
   ]
  },
  {
   "cell_type": "markdown",
   "id": "1f72f720",
   "metadata": {},
   "source": [
    "# 1. Setup & Loading Data"
   ]
  },
  {
   "cell_type": "code",
   "execution_count": 1,
   "id": "e88367a7",
   "metadata": {},
   "outputs": [
    {
     "name": "stdout",
     "output_type": "stream",
     "text": [
      "Current working directory set to: c:\\Users\\Lenovo\\Desktop\\Git Uploads\\cross-currency-extrema-forecasting\n"
     ]
    }
   ],
   "source": [
    "import os\n",
    "from pathlib import Path\n",
    "\n",
    "repo_root = Path.cwd()\n",
    "\n",
    "while not (repo_root / \".git\").exists() and repo_root.parent != repo_root:\n",
    "    repo_root = repo_root.parent\n",
    "\n",
    "os.chdir(repo_root)\n",
    "print(f\"Current working directory set to: {repo_root}\")"
   ]
  },
  {
   "cell_type": "code",
   "execution_count": null,
   "id": "1fbb7d91",
   "metadata": {},
   "outputs": [],
   "source": [
    "import pandas as pd\n",
    "from src.evaluation.metrics import Evaluator\n",
    "from src.models.baselines import RuleBasedBenchmark\n",
    "\n",
    "df = pd.read_parquet(\"data/processed/labeled_data.parquet\")\n",
    "\n",
    "train = pd.read_parquet(\"data/split/train.parquet\")\n",
    "val = pd.read_parquet(\"data/split/val.parquet\")\n",
    "test = pd.read_parquet(\"data/split/test.parquet\")"
   ]
  },
  {
   "cell_type": "markdown",
   "id": "fcbf536f",
   "metadata": {},
   "source": [
    "# 2. Training & Infering the XGBoost Models per Target per Currency"
   ]
  },
  {
   "cell_type": "code",
   "execution_count": null,
   "id": "c8f27d4b",
   "metadata": {},
   "outputs": [],
   "source": [
    "from src.models.ml_model import XGBoostSeq2OneByCurrency\n",
    "\n",
    "\n",
    "xgb_trainer = XGBoostSeq2OneByCurrency(\n",
    "    feature_cols=[col for col in train.columns if col.startswith(\"pls\")],\n",
    ")"
   ]
  },
  {
   "cell_type": "code",
   "execution_count": null,
   "id": "9dfd3e81",
   "metadata": {},
   "outputs": [],
   "source": [
    "xgb_trainer.train(\n",
    "    train_df=train,\n",
    "    val_df=val,\n",
    ")"
   ]
  },
  {
   "cell_type": "code",
   "execution_count": null,
   "id": "6534fd79",
   "metadata": {},
   "outputs": [],
   "source": [
    "preds = xgb_trainer.predict(full_df=df, test_df=test)"
   ]
  },
  {
   "cell_type": "markdown",
   "id": "5cbf494d",
   "metadata": {},
   "source": [
    "# 3. Infering the Rule Based Benchmark"
   ]
  },
  {
   "cell_type": "code",
   "execution_count": null,
   "id": "df8187dd",
   "metadata": {},
   "outputs": [],
   "source": [
    "model_b = RuleBasedBenchmark(test)\n",
    "preds_b = model_b.predict()"
   ]
  },
  {
   "cell_type": "markdown",
   "id": "eba61bd6",
   "metadata": {},
   "source": [
    "# 4. Comparison"
   ]
  },
  {
   "cell_type": "code",
   "execution_count": null,
   "id": "24ea0a5b",
   "metadata": {},
   "outputs": [],
   "source": [
    "evaluator_xg = Evaluator(preds)\n",
    "results_xg = evaluator_xg.evaluate()\n",
    "results_xg"
   ]
  },
  {
   "cell_type": "code",
   "execution_count": null,
   "id": "6e6bb105",
   "metadata": {},
   "outputs": [],
   "source": [
    "evaluator_b = Evaluator(preds_b)\n",
    "results_b = evaluator_b.evaluate_all()\n",
    "results_b"
   ]
  }
 ],
 "metadata": {
  "kernelspec": {
   "display_name": "Python 3",
   "language": "python",
   "name": "python3"
  },
  "language_info": {
   "codemirror_mode": {
    "name": "ipython",
    "version": 3
   },
   "file_extension": ".py",
   "mimetype": "text/x-python",
   "name": "python",
   "nbconvert_exporter": "python",
   "pygments_lexer": "ipython3",
   "version": "3.10.4"
  }
 },
 "nbformat": 4,
 "nbformat_minor": 5
}
