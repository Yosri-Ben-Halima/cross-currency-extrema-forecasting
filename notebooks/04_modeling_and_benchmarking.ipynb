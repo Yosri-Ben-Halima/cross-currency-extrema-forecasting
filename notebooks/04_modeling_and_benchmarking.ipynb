{
 "cells": [
  {
   "cell_type": "markdown",
   "id": "21bb4a83",
   "metadata": {},
   "source": [
    "<h1 style=\"text-align: center;\">Modelling & Benchmarking</h1>\n"
   ]
  },
  {
   "cell_type": "markdown",
   "id": "1f72f720",
   "metadata": {},
   "source": [
    "# 1. Setup & Loading Data"
   ]
  },
  {
   "cell_type": "markdown",
   "id": "96cb3205",
   "metadata": {},
   "source": [
    "In this final notebook, we train and evaluate predictive models using the features and targets constructed in previous steps. We include XGBoost regression approach, comparing its performance against a rule-based benchmark."
   ]
  },
  {
   "cell_type": "code",
   "execution_count": 1,
   "id": "e88367a7",
   "metadata": {},
   "outputs": [
    {
     "name": "stdout",
     "output_type": "stream",
     "text": [
      "Current working directory set to: c:\\Users\\Lenovo\\Desktop\\Git Uploads\\cross-currency-extrema-forecasting\n"
     ]
    }
   ],
   "source": [
    "import os\n",
    "from pathlib import Path\n",
    "\n",
    "repo_root = Path.cwd()\n",
    "\n",
    "while not (repo_root / \".git\").exists() and repo_root.parent != repo_root:\n",
    "    repo_root = repo_root.parent\n",
    "\n",
    "os.chdir(repo_root)\n",
    "print(f\"Current working directory set to: {repo_root}\")"
   ]
  },
  {
   "cell_type": "code",
   "execution_count": 2,
   "id": "1fbb7d91",
   "metadata": {},
   "outputs": [],
   "source": [
    "import pandas as pd\n",
    "from src.evaluation.metrics import Evaluator\n",
    "from src.models.baselines import RuleBasedBenchmark\n",
    "\n",
    "df = pd.read_parquet(\"data/processed/labeled_data.parquet\")\n",
    "\n",
    "train = pd.read_parquet(\"data/split/train.parquet\")\n",
    "val = pd.read_parquet(\"data/split/val.parquet\")\n",
    "test = pd.read_parquet(\"data/split/test.parquet\")"
   ]
  },
  {
   "cell_type": "markdown",
   "id": "fcbf536f",
   "metadata": {},
   "source": [
    "# 2. Our Approach: Sequence-to-One Gradient-Boosted Regression Tree Models per Target per Currency"
   ]
  },
  {
   "cell_type": "markdown",
   "id": "bfa9dbcc",
   "metadata": {},
   "source": [
    "For our model, we implement a sequence-to-one XGBoost regression framework to forecast the next hour's max high and min low prices for each currency pair. \n"
   ]
  },
  {
   "cell_type": "code",
   "execution_count": 3,
   "id": "c8f27d4b",
   "metadata": {},
   "outputs": [],
   "source": [
    "from src.models.ml_model import XGBoostSeq2OneByCurrency\n",
    "\n",
    "\n",
    "xgb_trainer = XGBoostSeq2OneByCurrency(\n",
    "    feature_cols=[col for col in train.columns if col.startswith(\"pls\")],\n",
    ")"
   ]
  },
  {
   "cell_type": "markdown",
   "id": "137c988a",
   "metadata": {},
   "source": [
    "For each currency $C$, we construct rolling window input sequences of our latent standardized historical features, capturing the last $n$ (sequence length) time steps between $[t_0-n,t_0-1]$ to predict the immediate next change in max high and min low prices at time $t_0$, $\\Delta Y^C_{high,t_0}$ and $\\Delta Y^C_{low,t_0}$. By predicting differenced targets the models learns stationary patterns, which improves generalization for this kind of models."
   ]
  },
  {
   "cell_type": "code",
   "execution_count": 4,
   "id": "9dfd3e81",
   "metadata": {},
   "outputs": [
    {
     "name": "stdout",
     "output_type": "stream",
     "text": [
      "----------- Training model for AUDJPY -----------\n"
     ]
    },
    {
     "name": "stderr",
     "output_type": "stream",
     "text": [
      "Building windows: 100%|██████████| 1/1 [00:03<00:00,  3.12s/it]\n",
      "Building windows: 100%|██████████| 1/1 [00:00<00:00,  1.86it/s]\n"
     ]
    },
    {
     "name": "stdout",
     "output_type": "stream",
     "text": [
      "🔹 Training model for D_y_high...\n",
      "🔹 Training model for D_y_low...\n",
      "✅ Validation RMSE | D_y_high: 0.031 | D_y_low: 0.034\n",
      "----------- AUDJPY training complete -----------\n",
      "\n",
      "----------- Training model for AUDSGD -----------\n"
     ]
    },
    {
     "name": "stderr",
     "output_type": "stream",
     "text": [
      "Building windows: 100%|██████████| 1/1 [00:03<00:00,  3.03s/it]\n",
      "Building windows: 100%|██████████| 1/1 [00:00<00:00,  1.87it/s]\n"
     ]
    },
    {
     "name": "stdout",
     "output_type": "stream",
     "text": [
      "🔹 Training model for D_y_high...\n",
      "🔹 Training model for D_y_low...\n",
      "✅ Validation RMSE | D_y_high: 0.000 | D_y_low: 0.000\n",
      "----------- AUDSGD training complete -----------\n",
      "\n",
      "----------- Training model for AUDUSD -----------\n"
     ]
    },
    {
     "name": "stderr",
     "output_type": "stream",
     "text": [
      "Building windows: 100%|██████████| 1/1 [00:03<00:00,  3.04s/it]\n",
      "Building windows: 100%|██████████| 1/1 [00:00<00:00,  1.64it/s]\n"
     ]
    },
    {
     "name": "stdout",
     "output_type": "stream",
     "text": [
      "🔹 Training model for D_y_high...\n",
      "🔹 Training model for D_y_low...\n",
      "✅ Validation RMSE | D_y_high: 0.000 | D_y_low: 0.000\n",
      "----------- AUDUSD training complete -----------\n",
      "\n",
      "----------- Training model for EURAUD -----------\n"
     ]
    },
    {
     "name": "stderr",
     "output_type": "stream",
     "text": [
      "Building windows: 100%|██████████| 1/1 [00:03<00:00,  3.28s/it]\n",
      "Building windows: 100%|██████████| 1/1 [00:00<00:00,  1.84it/s]\n"
     ]
    },
    {
     "name": "stdout",
     "output_type": "stream",
     "text": [
      "🔹 Training model for D_y_high...\n",
      "🔹 Training model for D_y_low...\n",
      "✅ Validation RMSE | D_y_high: 0.000 | D_y_low: 0.000\n",
      "----------- EURAUD training complete -----------\n",
      "\n",
      "----------- Training model for EURGBP -----------\n"
     ]
    },
    {
     "name": "stderr",
     "output_type": "stream",
     "text": [
      "Building windows: 100%|██████████| 1/1 [00:02<00:00,  2.99s/it]\n",
      "Building windows: 100%|██████████| 1/1 [00:00<00:00,  1.89it/s]\n"
     ]
    },
    {
     "name": "stdout",
     "output_type": "stream",
     "text": [
      "🔹 Training model for D_y_high...\n",
      "🔹 Training model for D_y_low...\n",
      "✅ Validation RMSE | D_y_high: 0.000 | D_y_low: 0.000\n",
      "----------- EURGBP training complete -----------\n",
      "\n",
      "----------- Training model for EURJPY -----------\n"
     ]
    },
    {
     "name": "stderr",
     "output_type": "stream",
     "text": [
      "Building windows: 100%|██████████| 1/1 [00:03<00:00,  3.07s/it]\n",
      "Building windows: 100%|██████████| 1/1 [00:00<00:00,  1.89it/s]\n"
     ]
    },
    {
     "name": "stdout",
     "output_type": "stream",
     "text": [
      "🔹 Training model for D_y_high...\n",
      "🔹 Training model for D_y_low...\n",
      "✅ Validation RMSE | D_y_high: 0.048 | D_y_low: 0.052\n",
      "----------- EURJPY training complete -----------\n",
      "\n",
      "----------- Training model for EURUSD -----------\n"
     ]
    },
    {
     "name": "stderr",
     "output_type": "stream",
     "text": [
      "Building windows: 100%|██████████| 1/1 [00:04<00:00,  4.36s/it]\n",
      "Building windows: 100%|██████████| 1/1 [00:00<00:00,  1.50it/s]\n"
     ]
    },
    {
     "name": "stdout",
     "output_type": "stream",
     "text": [
      "🔹 Training model for D_y_high...\n",
      "🔹 Training model for D_y_low...\n",
      "✅ Validation RMSE | D_y_high: 0.000 | D_y_low: 0.000\n",
      "----------- EURUSD training complete -----------\n",
      "\n",
      "----------- Training model for GBPJPY -----------\n"
     ]
    },
    {
     "name": "stderr",
     "output_type": "stream",
     "text": [
      "Building windows: 100%|██████████| 1/1 [00:03<00:00,  3.11s/it]\n",
      "Building windows: 100%|██████████| 1/1 [00:00<00:00,  1.86it/s]\n"
     ]
    },
    {
     "name": "stdout",
     "output_type": "stream",
     "text": [
      "🔹 Training model for D_y_high...\n",
      "🔹 Training model for D_y_low...\n",
      "✅ Validation RMSE | D_y_high: 0.061 | D_y_low: 0.067\n",
      "----------- GBPJPY training complete -----------\n",
      "\n",
      "----------- Training model for GBPUSD -----------\n"
     ]
    },
    {
     "name": "stderr",
     "output_type": "stream",
     "text": [
      "Building windows: 100%|██████████| 1/1 [00:03<00:00,  3.04s/it]\n",
      "Building windows: 100%|██████████| 1/1 [00:00<00:00,  1.85it/s]\n"
     ]
    },
    {
     "name": "stdout",
     "output_type": "stream",
     "text": [
      "🔹 Training model for D_y_high...\n",
      "🔹 Training model for D_y_low...\n",
      "✅ Validation RMSE | D_y_high: 0.000 | D_y_low: 0.000\n",
      "----------- GBPUSD training complete -----------\n",
      "\n",
      "----------- Training model for NZDUSD -----------\n"
     ]
    },
    {
     "name": "stderr",
     "output_type": "stream",
     "text": [
      "Building windows: 100%|██████████| 1/1 [00:03<00:00,  3.28s/it]\n",
      "Building windows: 100%|██████████| 1/1 [00:00<00:00,  1.88it/s]\n"
     ]
    },
    {
     "name": "stdout",
     "output_type": "stream",
     "text": [
      "🔹 Training model for D_y_high...\n",
      "🔹 Training model for D_y_low...\n",
      "✅ Validation RMSE | D_y_high: 0.000 | D_y_low: 0.000\n",
      "----------- NZDUSD training complete -----------\n",
      "\n",
      "----------- Training model for SGDJPY -----------\n"
     ]
    },
    {
     "name": "stderr",
     "output_type": "stream",
     "text": [
      "Building windows: 100%|██████████| 1/1 [00:03<00:00,  3.07s/it]\n",
      "Building windows: 100%|██████████| 1/1 [00:00<00:00,  1.77it/s]\n"
     ]
    },
    {
     "name": "stdout",
     "output_type": "stream",
     "text": [
      "🔹 Training model for D_y_high...\n",
      "🔹 Training model for D_y_low...\n",
      "✅ Validation RMSE | D_y_high: 0.031 | D_y_low: 0.033\n",
      "----------- SGDJPY training complete -----------\n",
      "\n",
      "----------- Training model for USDCAD -----------\n"
     ]
    },
    {
     "name": "stderr",
     "output_type": "stream",
     "text": [
      "Building windows: 100%|██████████| 1/1 [00:03<00:00,  3.26s/it]\n",
      "Building windows: 100%|██████████| 1/1 [00:00<00:00,  1.91it/s]\n"
     ]
    },
    {
     "name": "stdout",
     "output_type": "stream",
     "text": [
      "🔹 Training model for D_y_high...\n",
      "🔹 Training model for D_y_low...\n",
      "✅ Validation RMSE | D_y_high: 0.000 | D_y_low: 0.000\n",
      "----------- USDCAD training complete -----------\n",
      "\n",
      "----------- Training model for USDCHF -----------\n"
     ]
    },
    {
     "name": "stderr",
     "output_type": "stream",
     "text": [
      "Building windows: 100%|██████████| 1/1 [00:03<00:00,  3.08s/it]\n",
      "Building windows: 100%|██████████| 1/1 [00:00<00:00,  1.87it/s]\n"
     ]
    },
    {
     "name": "stdout",
     "output_type": "stream",
     "text": [
      "🔹 Training model for D_y_high...\n",
      "🔹 Training model for D_y_low...\n",
      "✅ Validation RMSE | D_y_high: 0.000 | D_y_low: 0.000\n",
      "----------- USDCHF training complete -----------\n",
      "\n",
      "----------- Training model for USDJPY -----------\n"
     ]
    },
    {
     "name": "stderr",
     "output_type": "stream",
     "text": [
      "Building windows: 100%|██████████| 1/1 [00:03<00:00,  3.03s/it]\n",
      "Building windows: 100%|██████████| 1/1 [00:00<00:00,  1.88it/s]\n"
     ]
    },
    {
     "name": "stdout",
     "output_type": "stream",
     "text": [
      "🔹 Training model for D_y_high...\n",
      "🔹 Training model for D_y_low...\n",
      "✅ Validation RMSE | D_y_high: 0.054 | D_y_low: 0.060\n",
      "----------- USDJPY training complete -----------\n",
      "\n",
      "----------- Training model for USDZAR -----------\n"
     ]
    },
    {
     "name": "stderr",
     "output_type": "stream",
     "text": [
      "Building windows: 100%|██████████| 1/1 [00:03<00:00,  3.73s/it]\n",
      "Building windows: 100%|██████████| 1/1 [00:00<00:00,  1.26it/s]\n"
     ]
    },
    {
     "name": "stdout",
     "output_type": "stream",
     "text": [
      "🔹 Training model for D_y_high...\n",
      "🔹 Training model for D_y_low...\n",
      "✅ Validation RMSE | D_y_high: 0.009 | D_y_low: 0.008\n",
      "----------- USDZAR training complete -----------\n",
      "\n"
     ]
    }
   ],
   "source": [
    "xgb_trainer.train(\n",
    "    train_df=train,\n",
    "    val_df=val,\n",
    ")"
   ]
  },
  {
   "cell_type": "markdown",
   "id": "db8c8b2f",
   "metadata": {},
   "source": [
    "During prediction for a specific currency $C$, the forecasted changes are reconstructed into absolute price levels matching our primary targets, $\\hat{Y}^C_{high}$ and $\\hat{Y}^C_{low}$, by cumulatively summing the predicted differences $\\Delta \\hat{Y}^C_{high,~i}$ and $\\Delta \\hat{Y}^C_{low,~i}$ and anchoring them to the last observed true values $Y^C_{high,~t_0-1}$ and $Y^C_{low,~t_0-1}$ (prediction sequence starts at $t_0$):\n",
    "\n",
    "$$\n",
    "\\hat{Y}^C_{high,~T} = \\sum_{t_0}^T\\Delta \\hat{Y}^C_{high,~i} + Y^C_{high,~t_0 - 1}\\\\\n",
    "\\hat{Y}^C_{low,~T} = \\sum_{t_0}^T\\Delta \\hat{Y}^C_{low,~i} + Y^C_{low,~t_0 - 1}\\\\\n",
    "\\forall T \\geq t_0\n",
    "$$\n",
    "\n",
    "PS: $\\hat{Y}$ is for predicted value, $Y$ is for true value of the target."
   ]
  },
  {
   "cell_type": "code",
   "execution_count": 5,
   "id": "6534fd79",
   "metadata": {},
   "outputs": [
    {
     "name": "stdout",
     "output_type": "stream",
     "text": [
      "----------- Predicting for AUDJPY -----------\n"
     ]
    },
    {
     "name": "stderr",
     "output_type": "stream",
     "text": [
      "Building windows: 100%|██████████| 1/1 [00:00<00:00,  1.76it/s]\n"
     ]
    },
    {
     "name": "stdout",
     "output_type": "stream",
     "text": [
      "----------- AUDJPY predictions done -----------\n",
      "\n",
      "----------- Predicting for AUDSGD -----------\n"
     ]
    },
    {
     "name": "stderr",
     "output_type": "stream",
     "text": [
      "Building windows: 100%|██████████| 1/1 [00:00<00:00,  2.06it/s]\n"
     ]
    },
    {
     "name": "stdout",
     "output_type": "stream",
     "text": [
      "----------- AUDSGD predictions done -----------\n",
      "\n",
      "----------- Predicting for AUDUSD -----------\n"
     ]
    },
    {
     "name": "stderr",
     "output_type": "stream",
     "text": [
      "Building windows: 100%|██████████| 1/1 [00:00<00:00,  2.08it/s]\n"
     ]
    },
    {
     "name": "stdout",
     "output_type": "stream",
     "text": [
      "----------- AUDUSD predictions done -----------\n",
      "\n",
      "----------- Predicting for EURAUD -----------\n"
     ]
    },
    {
     "name": "stderr",
     "output_type": "stream",
     "text": [
      "Building windows: 100%|██████████| 1/1 [00:00<00:00,  1.93it/s]\n"
     ]
    },
    {
     "name": "stdout",
     "output_type": "stream",
     "text": [
      "----------- EURAUD predictions done -----------\n",
      "\n",
      "----------- Predicting for EURGBP -----------\n"
     ]
    },
    {
     "name": "stderr",
     "output_type": "stream",
     "text": [
      "Building windows: 100%|██████████| 1/1 [00:00<00:00,  2.08it/s]\n"
     ]
    },
    {
     "name": "stdout",
     "output_type": "stream",
     "text": [
      "----------- EURGBP predictions done -----------\n",
      "\n",
      "----------- Predicting for EURJPY -----------\n"
     ]
    },
    {
     "name": "stderr",
     "output_type": "stream",
     "text": [
      "Building windows: 100%|██████████| 1/1 [00:00<00:00,  2.09it/s]\n"
     ]
    },
    {
     "name": "stdout",
     "output_type": "stream",
     "text": [
      "----------- EURJPY predictions done -----------\n",
      "\n",
      "----------- Predicting for EURUSD -----------\n"
     ]
    },
    {
     "name": "stderr",
     "output_type": "stream",
     "text": [
      "Building windows: 100%|██████████| 1/1 [00:00<00:00,  2.11it/s]\n"
     ]
    },
    {
     "name": "stdout",
     "output_type": "stream",
     "text": [
      "----------- EURUSD predictions done -----------\n",
      "\n",
      "----------- Predicting for GBPJPY -----------\n"
     ]
    },
    {
     "name": "stderr",
     "output_type": "stream",
     "text": [
      "Building windows: 100%|██████████| 1/1 [00:00<00:00,  2.08it/s]\n"
     ]
    },
    {
     "name": "stdout",
     "output_type": "stream",
     "text": [
      "----------- GBPJPY predictions done -----------\n",
      "\n",
      "----------- Predicting for GBPUSD -----------\n"
     ]
    },
    {
     "name": "stderr",
     "output_type": "stream",
     "text": [
      "Building windows: 100%|██████████| 1/1 [00:00<00:00,  2.12it/s]\n"
     ]
    },
    {
     "name": "stdout",
     "output_type": "stream",
     "text": [
      "----------- GBPUSD predictions done -----------\n",
      "\n",
      "----------- Predicting for NZDUSD -----------\n"
     ]
    },
    {
     "name": "stderr",
     "output_type": "stream",
     "text": [
      "Building windows: 100%|██████████| 1/1 [00:00<00:00,  2.12it/s]\n"
     ]
    },
    {
     "name": "stdout",
     "output_type": "stream",
     "text": [
      "----------- NZDUSD predictions done -----------\n",
      "\n",
      "----------- Predicting for SGDJPY -----------\n"
     ]
    },
    {
     "name": "stderr",
     "output_type": "stream",
     "text": [
      "Building windows: 100%|██████████| 1/1 [00:00<00:00,  2.11it/s]\n"
     ]
    },
    {
     "name": "stdout",
     "output_type": "stream",
     "text": [
      "----------- SGDJPY predictions done -----------\n",
      "\n",
      "----------- Predicting for USDCAD -----------\n"
     ]
    },
    {
     "name": "stderr",
     "output_type": "stream",
     "text": [
      "Building windows: 100%|██████████| 1/1 [00:00<00:00,  2.12it/s]\n"
     ]
    },
    {
     "name": "stdout",
     "output_type": "stream",
     "text": [
      "----------- USDCAD predictions done -----------\n",
      "\n",
      "----------- Predicting for USDCHF -----------\n"
     ]
    },
    {
     "name": "stderr",
     "output_type": "stream",
     "text": [
      "Building windows: 100%|██████████| 1/1 [00:00<00:00,  2.13it/s]\n"
     ]
    },
    {
     "name": "stdout",
     "output_type": "stream",
     "text": [
      "----------- USDCHF predictions done -----------\n",
      "\n",
      "----------- Predicting for USDJPY -----------\n"
     ]
    },
    {
     "name": "stderr",
     "output_type": "stream",
     "text": [
      "Building windows: 100%|██████████| 1/1 [00:00<00:00,  2.09it/s]\n"
     ]
    },
    {
     "name": "stdout",
     "output_type": "stream",
     "text": [
      "----------- USDJPY predictions done -----------\n",
      "\n",
      "----------- Predicting for USDZAR -----------\n"
     ]
    },
    {
     "name": "stderr",
     "output_type": "stream",
     "text": [
      "Building windows: 100%|██████████| 1/1 [00:00<00:00,  2.08it/s]"
     ]
    },
    {
     "name": "stdout",
     "output_type": "stream",
     "text": [
      "----------- USDZAR predictions done -----------\n",
      "\n"
     ]
    },
    {
     "name": "stderr",
     "output_type": "stream",
     "text": [
      "\n"
     ]
    }
   ],
   "source": [
    "preds = xgb_trainer.predict(full_df=df, test_df=test)"
   ]
  },
  {
   "cell_type": "markdown",
   "id": "5cbf494d",
   "metadata": {},
   "source": [
    "# 3. Infering the Rule Based Benchmark"
   ]
  },
  {
   "cell_type": "markdown",
   "id": "cccdfb4b",
   "metadata": {},
   "source": [
    "To provide a reference point for model evaluation, we design a rule-based benchmark that predicts future extrema (max highs and min lows) using only past observations. This benchmark serves as a lower-bound baseline, allowing us to quantify the added value of data-driven learning methods.\n",
    "\n",
    "This approach assumes that future price extrema are likely to resemble recent ones. Specifically, the predicted max high (respectively, min low) over the next hour from time $t$ is simply the observed high (respectively, low) from the previous period:\n",
    "\n",
    "$$\n",
    "\\hat{Y}^C_{high,~t} = H_{t-1}, \\quad \\hat{Y}^C_{low,~t} = L_{t-1}\n",
    "$$\n",
    "\n",
    "Where $L_t$ and $H_t$ are respectively the low and high price of previous bar.\n",
    "\n",
    "This benchmark is a form of autoregressive logic, serving as a naive baseline to contextualize the predictive power of our model approach.\n"
   ]
  },
  {
   "cell_type": "code",
   "execution_count": 6,
   "id": "df8187dd",
   "metadata": {},
   "outputs": [
    {
     "name": "stdout",
     "output_type": "stream",
     "text": [
      "🔹 Generating naive rule-based benchmark predictions...\n",
      "✅ Naive rule-based predictions generated.\n"
     ]
    }
   ],
   "source": [
    "model_b = RuleBasedBenchmark(test)\n",
    "preds_b = model_b.predict()"
   ]
  },
  {
   "cell_type": "markdown",
   "id": "eba61bd6",
   "metadata": {},
   "source": [
    "# 4. Comparison: Gradient-Boosted Tree-Based Regression Models Set vs Rule-Based Benchmark"
   ]
  },
  {
   "cell_type": "markdown",
   "id": "49d79345",
   "metadata": {},
   "source": [
    "The evaluation framework systematically measures model performance using both **RMSE** and **MAPE** across currencies and targets. Metrics are computed at four aggregation levels:\n",
    "\n",
    "(1) per currency per target (example: for currency AUDJPY for target `y_high`),\n",
    "\n",
    "(2) per currency across both targets,\n",
    "\n",
    "(3) per target across all currencies, and\n",
    "\n",
    "(4) overall across the entire dataset.\n"
   ]
  },
  {
   "cell_type": "code",
   "execution_count": 7,
   "id": "24ea0a5b",
   "metadata": {},
   "outputs": [
    {
     "name": "stdout",
     "output_type": "stream",
     "text": [
      "✅ Evaluation complete.\n"
     ]
    },
    {
     "data": {
      "application/vnd.microsoft.datawrangler.viewer.v0+json": {
       "columns": [
        {
         "name": "index",
         "rawType": "int64",
         "type": "integer"
        },
        {
         "name": "target",
         "rawType": "object",
         "type": "string"
        },
        {
         "name": "RMSE",
         "rawType": "float32",
         "type": "float"
        },
        {
         "name": "MAPE",
         "rawType": "float64",
         "type": "float"
        },
        {
         "name": "currency",
         "rawType": "object",
         "type": "string"
        }
       ],
       "ref": "723fcac0-40f2-4b72-b0c8-eae2391caa60",
       "rows": [
        [
         "0",
         "y_high",
         "0.8656563",
         "0.7956602610647678",
         "AUDJPY"
        ],
        [
         "1",
         "y_low",
         "1.8697516",
         "1.7157336696982384",
         "AUDJPY"
        ],
        [
         "2",
         "overall",
         "1.3677039",
         "1.255696965381503",
         "AUDJPY"
        ],
        [
         "3",
         "y_high",
         "0.010781869",
         "1.0745230130851269",
         "AUDSGD"
        ],
        [
         "4",
         "y_low",
         "0.022440368",
         "2.256721816956997",
         "AUDSGD"
        ],
        [
         "5",
         "overall",
         "0.016611118",
         "1.665622415021062",
         "AUDSGD"
        ],
        [
         "6",
         "y_high",
         "0.006445018",
         "0.7966034114360809",
         "AUDUSD"
        ],
        [
         "7",
         "y_low",
         "0.018691245",
         "2.406143397092819",
         "AUDUSD"
        ],
        [
         "8",
         "overall",
         "0.012568132",
         "1.60137340426445",
         "AUDUSD"
        ],
        [
         "9",
         "y_high",
         "0.02896034",
         "1.4001944102346897",
         "EURAUD"
        ],
        [
         "10",
         "y_low",
         "0.008640226",
         "0.3476574784144759",
         "EURAUD"
        ],
        [
         "11",
         "overall",
         "0.018800283",
         "0.8739259443245828",
         "EURAUD"
        ],
        [
         "12",
         "y_high",
         "0.0031367517",
         "0.31092241406440735",
         "EURGBP"
        ],
        [
         "13",
         "y_low",
         "0.0020513707",
         "0.19071931019425392",
         "EURGBP"
        ],
        [
         "14",
         "overall",
         "0.0025940612",
         "0.25082086212933064",
         "EURGBP"
        ],
        [
         "15",
         "y_high",
         "1.90193",
         "0.8743053302168846",
         "EURJPY"
        ],
        [
         "16",
         "y_low",
         "0.49862286",
         "0.2445779973641038",
         "EURJPY"
        ],
        [
         "17",
         "overall",
         "1.2002764",
         "0.5594416637904942",
         "EURJPY"
        ],
        [
         "18",
         "y_high",
         "0.005705427",
         "0.4292248748242855",
         "EURUSD"
        ],
        [
         "19",
         "y_low",
         "0.017568002",
         "1.2070095166563988",
         "EURUSD"
        ],
        [
         "20",
         "overall",
         "0.011636714",
         "0.8181171957403421",
         "EURUSD"
        ],
        [
         "21",
         "y_high",
         "1.1509517",
         "0.5398161709308624",
         "GBPJPY"
        ],
        [
         "22",
         "y_low",
         "2.1773565",
         "1.0108277201652527",
         "GBPJPY"
        ],
        [
         "23",
         "overall",
         "1.664154",
         "0.7753219455480576",
         "GBPJPY"
        ],
        [
         "24",
         "y_high",
         "0.013662075",
         "0.8591520600020885",
         "GBPUSD"
        ],
        [
         "25",
         "y_low",
         "0.01666415",
         "1.0593499056994915",
         "GBPUSD"
        ],
        [
         "26",
         "overall",
         "0.015163112",
         "0.95925098285079",
         "GBPUSD"
        ],
        [
         "27",
         "y_high",
         "0.0044845385",
         "0.663580559194088",
         "NZDUSD"
        ],
        [
         "28",
         "y_low",
         "0.011000729",
         "1.513337716460228",
         "NZDUSD"
        ],
        [
         "29",
         "overall",
         "0.007742634",
         "1.088459137827158",
         "NZDUSD"
        ],
        [
         "30",
         "y_high",
         "1.2416415",
         "0.869248528033495",
         "SGDJPY"
        ],
        [
         "31",
         "y_low",
         "0.49552634",
         "0.32569251488894224",
         "SGDJPY"
        ],
        [
         "32",
         "overall",
         "0.8685839",
         "0.5974705214612186",
         "SGDJPY"
        ],
        [
         "33",
         "y_high",
         "0.005951714",
         "0.36751022562384605",
         "USDCAD"
        ],
        [
         "34",
         "y_low",
         "0.007831516",
         "0.4860971122980118",
         "USDCAD"
        ],
        [
         "35",
         "overall",
         "0.0068916148",
         "0.4268036689609289",
         "USDCAD"
        ],
        [
         "36",
         "y_high",
         "0.009384718",
         "0.9678917936980724",
         "USDCHF"
        ],
        [
         "37",
         "y_low",
         "0.005672711",
         "0.5765292327851057",
         "USDCHF"
        ],
        [
         "38",
         "overall",
         "0.0075287144",
         "0.7722105132415891",
         "USDCHF"
        ],
        [
         "39",
         "y_high",
         "2.5761187",
         "1.3657820411026478",
         "USDJPY"
        ],
        [
         "40",
         "y_low",
         "1.1513621",
         "0.6024975329637527",
         "USDJPY"
        ],
        [
         "41",
         "overall",
         "1.8637404",
         "0.9841397870332003",
         "USDJPY"
        ],
        [
         "42",
         "y_high",
         "0.43749794",
         "2.071664296090603",
         "USDZAR"
        ],
        [
         "43",
         "y_low",
         "0.12560198",
         "0.6488475948572159",
         "USDZAR"
        ],
        [
         "44",
         "overall",
         "0.28154996",
         "1.3602559454739094",
         "USDZAR"
        ],
        [
         "45",
         "y_high",
         "0.96823627",
         "0.8924052119255066",
         "overall"
        ],
        [
         "46",
         "y_low",
         "0.8195188",
         "0.972782913595438",
         "overall"
        ],
        [
         "47",
         "overall",
         "0.8938775",
         "0.9325940627604723",
         "overall"
        ]
       ],
       "shape": {
        "columns": 4,
        "rows": 48
       }
      },
      "text/html": [
       "<div>\n",
       "<style scoped>\n",
       "    .dataframe tbody tr th:only-of-type {\n",
       "        vertical-align: middle;\n",
       "    }\n",
       "\n",
       "    .dataframe tbody tr th {\n",
       "        vertical-align: top;\n",
       "    }\n",
       "\n",
       "    .dataframe thead th {\n",
       "        text-align: right;\n",
       "    }\n",
       "</style>\n",
       "<table border=\"1\" class=\"dataframe\">\n",
       "  <thead>\n",
       "    <tr style=\"text-align: right;\">\n",
       "      <th></th>\n",
       "      <th>target</th>\n",
       "      <th>RMSE</th>\n",
       "      <th>MAPE</th>\n",
       "      <th>currency</th>\n",
       "    </tr>\n",
       "  </thead>\n",
       "  <tbody>\n",
       "    <tr>\n",
       "      <th>0</th>\n",
       "      <td>y_high</td>\n",
       "      <td>0.865656</td>\n",
       "      <td>0.795660</td>\n",
       "      <td>AUDJPY</td>\n",
       "    </tr>\n",
       "    <tr>\n",
       "      <th>1</th>\n",
       "      <td>y_low</td>\n",
       "      <td>1.869752</td>\n",
       "      <td>1.715734</td>\n",
       "      <td>AUDJPY</td>\n",
       "    </tr>\n",
       "    <tr>\n",
       "      <th>2</th>\n",
       "      <td>overall</td>\n",
       "      <td>1.367704</td>\n",
       "      <td>1.255697</td>\n",
       "      <td>AUDJPY</td>\n",
       "    </tr>\n",
       "    <tr>\n",
       "      <th>3</th>\n",
       "      <td>y_high</td>\n",
       "      <td>0.010782</td>\n",
       "      <td>1.074523</td>\n",
       "      <td>AUDSGD</td>\n",
       "    </tr>\n",
       "    <tr>\n",
       "      <th>4</th>\n",
       "      <td>y_low</td>\n",
       "      <td>0.022440</td>\n",
       "      <td>2.256722</td>\n",
       "      <td>AUDSGD</td>\n",
       "    </tr>\n",
       "    <tr>\n",
       "      <th>5</th>\n",
       "      <td>overall</td>\n",
       "      <td>0.016611</td>\n",
       "      <td>1.665622</td>\n",
       "      <td>AUDSGD</td>\n",
       "    </tr>\n",
       "    <tr>\n",
       "      <th>6</th>\n",
       "      <td>y_high</td>\n",
       "      <td>0.006445</td>\n",
       "      <td>0.796603</td>\n",
       "      <td>AUDUSD</td>\n",
       "    </tr>\n",
       "    <tr>\n",
       "      <th>7</th>\n",
       "      <td>y_low</td>\n",
       "      <td>0.018691</td>\n",
       "      <td>2.406143</td>\n",
       "      <td>AUDUSD</td>\n",
       "    </tr>\n",
       "    <tr>\n",
       "      <th>8</th>\n",
       "      <td>overall</td>\n",
       "      <td>0.012568</td>\n",
       "      <td>1.601373</td>\n",
       "      <td>AUDUSD</td>\n",
       "    </tr>\n",
       "    <tr>\n",
       "      <th>9</th>\n",
       "      <td>y_high</td>\n",
       "      <td>0.028960</td>\n",
       "      <td>1.400194</td>\n",
       "      <td>EURAUD</td>\n",
       "    </tr>\n",
       "    <tr>\n",
       "      <th>10</th>\n",
       "      <td>y_low</td>\n",
       "      <td>0.008640</td>\n",
       "      <td>0.347657</td>\n",
       "      <td>EURAUD</td>\n",
       "    </tr>\n",
       "    <tr>\n",
       "      <th>11</th>\n",
       "      <td>overall</td>\n",
       "      <td>0.018800</td>\n",
       "      <td>0.873926</td>\n",
       "      <td>EURAUD</td>\n",
       "    </tr>\n",
       "    <tr>\n",
       "      <th>12</th>\n",
       "      <td>y_high</td>\n",
       "      <td>0.003137</td>\n",
       "      <td>0.310922</td>\n",
       "      <td>EURGBP</td>\n",
       "    </tr>\n",
       "    <tr>\n",
       "      <th>13</th>\n",
       "      <td>y_low</td>\n",
       "      <td>0.002051</td>\n",
       "      <td>0.190719</td>\n",
       "      <td>EURGBP</td>\n",
       "    </tr>\n",
       "    <tr>\n",
       "      <th>14</th>\n",
       "      <td>overall</td>\n",
       "      <td>0.002594</td>\n",
       "      <td>0.250821</td>\n",
       "      <td>EURGBP</td>\n",
       "    </tr>\n",
       "    <tr>\n",
       "      <th>15</th>\n",
       "      <td>y_high</td>\n",
       "      <td>1.901930</td>\n",
       "      <td>0.874305</td>\n",
       "      <td>EURJPY</td>\n",
       "    </tr>\n",
       "    <tr>\n",
       "      <th>16</th>\n",
       "      <td>y_low</td>\n",
       "      <td>0.498623</td>\n",
       "      <td>0.244578</td>\n",
       "      <td>EURJPY</td>\n",
       "    </tr>\n",
       "    <tr>\n",
       "      <th>17</th>\n",
       "      <td>overall</td>\n",
       "      <td>1.200276</td>\n",
       "      <td>0.559442</td>\n",
       "      <td>EURJPY</td>\n",
       "    </tr>\n",
       "    <tr>\n",
       "      <th>18</th>\n",
       "      <td>y_high</td>\n",
       "      <td>0.005705</td>\n",
       "      <td>0.429225</td>\n",
       "      <td>EURUSD</td>\n",
       "    </tr>\n",
       "    <tr>\n",
       "      <th>19</th>\n",
       "      <td>y_low</td>\n",
       "      <td>0.017568</td>\n",
       "      <td>1.207010</td>\n",
       "      <td>EURUSD</td>\n",
       "    </tr>\n",
       "    <tr>\n",
       "      <th>20</th>\n",
       "      <td>overall</td>\n",
       "      <td>0.011637</td>\n",
       "      <td>0.818117</td>\n",
       "      <td>EURUSD</td>\n",
       "    </tr>\n",
       "    <tr>\n",
       "      <th>21</th>\n",
       "      <td>y_high</td>\n",
       "      <td>1.150952</td>\n",
       "      <td>0.539816</td>\n",
       "      <td>GBPJPY</td>\n",
       "    </tr>\n",
       "    <tr>\n",
       "      <th>22</th>\n",
       "      <td>y_low</td>\n",
       "      <td>2.177356</td>\n",
       "      <td>1.010828</td>\n",
       "      <td>GBPJPY</td>\n",
       "    </tr>\n",
       "    <tr>\n",
       "      <th>23</th>\n",
       "      <td>overall</td>\n",
       "      <td>1.664154</td>\n",
       "      <td>0.775322</td>\n",
       "      <td>GBPJPY</td>\n",
       "    </tr>\n",
       "    <tr>\n",
       "      <th>24</th>\n",
       "      <td>y_high</td>\n",
       "      <td>0.013662</td>\n",
       "      <td>0.859152</td>\n",
       "      <td>GBPUSD</td>\n",
       "    </tr>\n",
       "    <tr>\n",
       "      <th>25</th>\n",
       "      <td>y_low</td>\n",
       "      <td>0.016664</td>\n",
       "      <td>1.059350</td>\n",
       "      <td>GBPUSD</td>\n",
       "    </tr>\n",
       "    <tr>\n",
       "      <th>26</th>\n",
       "      <td>overall</td>\n",
       "      <td>0.015163</td>\n",
       "      <td>0.959251</td>\n",
       "      <td>GBPUSD</td>\n",
       "    </tr>\n",
       "    <tr>\n",
       "      <th>27</th>\n",
       "      <td>y_high</td>\n",
       "      <td>0.004485</td>\n",
       "      <td>0.663581</td>\n",
       "      <td>NZDUSD</td>\n",
       "    </tr>\n",
       "    <tr>\n",
       "      <th>28</th>\n",
       "      <td>y_low</td>\n",
       "      <td>0.011001</td>\n",
       "      <td>1.513338</td>\n",
       "      <td>NZDUSD</td>\n",
       "    </tr>\n",
       "    <tr>\n",
       "      <th>29</th>\n",
       "      <td>overall</td>\n",
       "      <td>0.007743</td>\n",
       "      <td>1.088459</td>\n",
       "      <td>NZDUSD</td>\n",
       "    </tr>\n",
       "    <tr>\n",
       "      <th>30</th>\n",
       "      <td>y_high</td>\n",
       "      <td>1.241642</td>\n",
       "      <td>0.869249</td>\n",
       "      <td>SGDJPY</td>\n",
       "    </tr>\n",
       "    <tr>\n",
       "      <th>31</th>\n",
       "      <td>y_low</td>\n",
       "      <td>0.495526</td>\n",
       "      <td>0.325693</td>\n",
       "      <td>SGDJPY</td>\n",
       "    </tr>\n",
       "    <tr>\n",
       "      <th>32</th>\n",
       "      <td>overall</td>\n",
       "      <td>0.868584</td>\n",
       "      <td>0.597471</td>\n",
       "      <td>SGDJPY</td>\n",
       "    </tr>\n",
       "    <tr>\n",
       "      <th>33</th>\n",
       "      <td>y_high</td>\n",
       "      <td>0.005952</td>\n",
       "      <td>0.367510</td>\n",
       "      <td>USDCAD</td>\n",
       "    </tr>\n",
       "    <tr>\n",
       "      <th>34</th>\n",
       "      <td>y_low</td>\n",
       "      <td>0.007832</td>\n",
       "      <td>0.486097</td>\n",
       "      <td>USDCAD</td>\n",
       "    </tr>\n",
       "    <tr>\n",
       "      <th>35</th>\n",
       "      <td>overall</td>\n",
       "      <td>0.006892</td>\n",
       "      <td>0.426804</td>\n",
       "      <td>USDCAD</td>\n",
       "    </tr>\n",
       "    <tr>\n",
       "      <th>36</th>\n",
       "      <td>y_high</td>\n",
       "      <td>0.009385</td>\n",
       "      <td>0.967892</td>\n",
       "      <td>USDCHF</td>\n",
       "    </tr>\n",
       "    <tr>\n",
       "      <th>37</th>\n",
       "      <td>y_low</td>\n",
       "      <td>0.005673</td>\n",
       "      <td>0.576529</td>\n",
       "      <td>USDCHF</td>\n",
       "    </tr>\n",
       "    <tr>\n",
       "      <th>38</th>\n",
       "      <td>overall</td>\n",
       "      <td>0.007529</td>\n",
       "      <td>0.772211</td>\n",
       "      <td>USDCHF</td>\n",
       "    </tr>\n",
       "    <tr>\n",
       "      <th>39</th>\n",
       "      <td>y_high</td>\n",
       "      <td>2.576119</td>\n",
       "      <td>1.365782</td>\n",
       "      <td>USDJPY</td>\n",
       "    </tr>\n",
       "    <tr>\n",
       "      <th>40</th>\n",
       "      <td>y_low</td>\n",
       "      <td>1.151362</td>\n",
       "      <td>0.602498</td>\n",
       "      <td>USDJPY</td>\n",
       "    </tr>\n",
       "    <tr>\n",
       "      <th>41</th>\n",
       "      <td>overall</td>\n",
       "      <td>1.863740</td>\n",
       "      <td>0.984140</td>\n",
       "      <td>USDJPY</td>\n",
       "    </tr>\n",
       "    <tr>\n",
       "      <th>42</th>\n",
       "      <td>y_high</td>\n",
       "      <td>0.437498</td>\n",
       "      <td>2.071664</td>\n",
       "      <td>USDZAR</td>\n",
       "    </tr>\n",
       "    <tr>\n",
       "      <th>43</th>\n",
       "      <td>y_low</td>\n",
       "      <td>0.125602</td>\n",
       "      <td>0.648848</td>\n",
       "      <td>USDZAR</td>\n",
       "    </tr>\n",
       "    <tr>\n",
       "      <th>44</th>\n",
       "      <td>overall</td>\n",
       "      <td>0.281550</td>\n",
       "      <td>1.360256</td>\n",
       "      <td>USDZAR</td>\n",
       "    </tr>\n",
       "    <tr>\n",
       "      <th>45</th>\n",
       "      <td>y_high</td>\n",
       "      <td>0.968236</td>\n",
       "      <td>0.892405</td>\n",
       "      <td>overall</td>\n",
       "    </tr>\n",
       "    <tr>\n",
       "      <th>46</th>\n",
       "      <td>y_low</td>\n",
       "      <td>0.819519</td>\n",
       "      <td>0.972783</td>\n",
       "      <td>overall</td>\n",
       "    </tr>\n",
       "    <tr>\n",
       "      <th>47</th>\n",
       "      <td>overall</td>\n",
       "      <td>0.893878</td>\n",
       "      <td>0.932594</td>\n",
       "      <td>overall</td>\n",
       "    </tr>\n",
       "  </tbody>\n",
       "</table>\n",
       "</div>"
      ],
      "text/plain": [
       "     target      RMSE      MAPE currency\n",
       "0    y_high  0.865656  0.795660   AUDJPY\n",
       "1     y_low  1.869752  1.715734   AUDJPY\n",
       "2   overall  1.367704  1.255697   AUDJPY\n",
       "3    y_high  0.010782  1.074523   AUDSGD\n",
       "4     y_low  0.022440  2.256722   AUDSGD\n",
       "5   overall  0.016611  1.665622   AUDSGD\n",
       "6    y_high  0.006445  0.796603   AUDUSD\n",
       "7     y_low  0.018691  2.406143   AUDUSD\n",
       "8   overall  0.012568  1.601373   AUDUSD\n",
       "9    y_high  0.028960  1.400194   EURAUD\n",
       "10    y_low  0.008640  0.347657   EURAUD\n",
       "11  overall  0.018800  0.873926   EURAUD\n",
       "12   y_high  0.003137  0.310922   EURGBP\n",
       "13    y_low  0.002051  0.190719   EURGBP\n",
       "14  overall  0.002594  0.250821   EURGBP\n",
       "15   y_high  1.901930  0.874305   EURJPY\n",
       "16    y_low  0.498623  0.244578   EURJPY\n",
       "17  overall  1.200276  0.559442   EURJPY\n",
       "18   y_high  0.005705  0.429225   EURUSD\n",
       "19    y_low  0.017568  1.207010   EURUSD\n",
       "20  overall  0.011637  0.818117   EURUSD\n",
       "21   y_high  1.150952  0.539816   GBPJPY\n",
       "22    y_low  2.177356  1.010828   GBPJPY\n",
       "23  overall  1.664154  0.775322   GBPJPY\n",
       "24   y_high  0.013662  0.859152   GBPUSD\n",
       "25    y_low  0.016664  1.059350   GBPUSD\n",
       "26  overall  0.015163  0.959251   GBPUSD\n",
       "27   y_high  0.004485  0.663581   NZDUSD\n",
       "28    y_low  0.011001  1.513338   NZDUSD\n",
       "29  overall  0.007743  1.088459   NZDUSD\n",
       "30   y_high  1.241642  0.869249   SGDJPY\n",
       "31    y_low  0.495526  0.325693   SGDJPY\n",
       "32  overall  0.868584  0.597471   SGDJPY\n",
       "33   y_high  0.005952  0.367510   USDCAD\n",
       "34    y_low  0.007832  0.486097   USDCAD\n",
       "35  overall  0.006892  0.426804   USDCAD\n",
       "36   y_high  0.009385  0.967892   USDCHF\n",
       "37    y_low  0.005673  0.576529   USDCHF\n",
       "38  overall  0.007529  0.772211   USDCHF\n",
       "39   y_high  2.576119  1.365782   USDJPY\n",
       "40    y_low  1.151362  0.602498   USDJPY\n",
       "41  overall  1.863740  0.984140   USDJPY\n",
       "42   y_high  0.437498  2.071664   USDZAR\n",
       "43    y_low  0.125602  0.648848   USDZAR\n",
       "44  overall  0.281550  1.360256   USDZAR\n",
       "45   y_high  0.968236  0.892405  overall\n",
       "46    y_low  0.819519  0.972783  overall\n",
       "47  overall  0.893878  0.932594  overall"
      ]
     },
     "execution_count": 7,
     "metadata": {},
     "output_type": "execute_result"
    }
   ],
   "source": [
    "evaluator_xg = Evaluator(preds)\n",
    "results_xg = evaluator_xg.evaluate_all()\n",
    "results_xg"
   ]
  },
  {
   "cell_type": "markdown",
   "id": "8df9b36e",
   "metadata": {},
   "source": [
    "\n",
    "Our model achieves an **overall RMSE of 0.85** and **MAPE of 0.93%**, significantly outperforming the **rule-based benchmark**, which records an **overall RMSE of 2.14** and **MAPE of 4.06%**. This corresponds to an approximate **58% reduction in RMSE** and **77% reduction in MAPE**, which shows that the learned regression model captures the patterns of our targets more effectively than the naïve autoregressive approach.\n",
    "\n",
    "\n",
    "Also, looking at the detailed breakdown, the model consistently improves prediction accuracy across most currency pairs while maintaining robust generalization across both **`y_high`** and **`y_low`** targets compared to benchmark.\n"
   ]
  },
  {
   "cell_type": "code",
   "execution_count": 8,
   "id": "6e6bb105",
   "metadata": {},
   "outputs": [
    {
     "name": "stdout",
     "output_type": "stream",
     "text": [
      "✅ Evaluation complete.\n"
     ]
    },
    {
     "data": {
      "application/vnd.microsoft.datawrangler.viewer.v0+json": {
       "columns": [
        {
         "name": "index",
         "rawType": "int64",
         "type": "integer"
        },
        {
         "name": "target",
         "rawType": "object",
         "type": "string"
        },
        {
         "name": "RMSE",
         "rawType": "float32",
         "type": "float"
        },
        {
         "name": "MAPE",
         "rawType": "float64",
         "type": "float"
        },
        {
         "name": "currency",
         "rawType": "object",
         "type": "string"
        }
       ],
       "ref": "36c9a167-462f-406f-99be-9b0d01cc885d",
       "rows": [
        [
         "0",
         "y_high",
         "0.082075156",
         "0.06368689355440438",
         "AUDJPY"
        ],
        [
         "1",
         "y_low",
         "0.08674307",
         "0.06154340226203203",
         "AUDJPY"
        ],
        [
         "2",
         "overall",
         "0.08440912",
         "0.0626151479082182",
         "AUDJPY"
        ],
        [
         "3",
         "y_high",
         "2.4097478",
         "5.301706492900848",
         "EURUSD"
        ],
        [
         "4",
         "y_low",
         "2.4090111",
         "5.299650877714157",
         "EURUSD"
        ],
        [
         "5",
         "overall",
         "2.4093795",
         "5.300678685307503",
         "EURUSD"
        ],
        [
         "6",
         "y_high",
         "2.4244857",
         "10.54122969508171",
         "NZDUSD"
        ],
        [
         "7",
         "y_low",
         "2.423739",
         "10.552416741847992",
         "NZDUSD"
        ],
        [
         "8",
         "overall",
         "2.4241123",
         "10.546823218464851",
         "NZDUSD"
        ],
        [
         "9",
         "y_high",
         "2.3939402",
         "3.4495823085308075",
         "EURAUD"
        ],
        [
         "10",
         "y_low",
         "2.3932567",
         "3.4519370645284653",
         "EURAUD"
        ],
        [
         "11",
         "overall",
         "2.3935986",
         "3.4507596865296364",
         "EURAUD"
        ],
        [
         "12",
         "y_high",
         "2.4190586",
         "7.723330706357956",
         "USDCHF"
        ],
        [
         "13",
         "y_low",
         "2.4183269",
         "7.735547423362732",
         "USDCHF"
        ],
        [
         "14",
         "overall",
         "2.4186926",
         "7.729439064860344",
         "USDCHF"
        ],
        [
         "15",
         "y_high",
         "2.4051034",
         "4.581164941191673",
         "GBPUSD"
        ],
        [
         "16",
         "y_low",
         "2.4043627",
         "4.584090039134026",
         "GBPUSD"
        ],
        [
         "17",
         "overall",
         "2.4047332",
         "4.582627490162849",
         "GBPUSD"
        ],
        [
         "18",
         "y_high",
         "0.48067456",
         "0.05986288306303322",
         "SGDJPY"
        ],
        [
         "19",
         "y_low",
         "0.47886622",
         "0.058819580590352416",
         "SGDJPY"
        ],
        [
         "20",
         "overall",
         "0.4797704",
         "0.05934123182669282",
         "SGDJPY"
        ],
        [
         "21",
         "y_high",
         "2.4174666",
         "7.1476273238658905",
         "EURGBP"
        ],
        [
         "22",
         "y_low",
         "2.416726",
         "7.144405692815781",
         "EURGBP"
        ],
        [
         "23",
         "overall",
         "2.4170964",
         "7.146016508340836",
         "EURGBP"
        ],
        [
         "24",
         "y_high",
         "2.4044857",
         "4.482730478048325",
         "USDCAD"
        ],
        [
         "25",
         "y_low",
         "2.403754",
         "4.482416436076164",
         "USDCAD"
        ],
        [
         "26",
         "overall",
         "2.40412",
         "4.482573457062244",
         "USDCAD"
        ],
        [
         "27",
         "y_high",
         "1.9894227",
         "0.376236904412508",
         "USDZAR"
        ],
        [
         "28",
         "y_low",
         "1.9895718",
         "0.3806762397289276",
         "USDZAR"
        ],
        [
         "29",
         "overall",
         "1.9894972",
         "0.3784565720707178",
         "USDZAR"
        ],
        [
         "30",
         "y_high",
         "2.4181526",
         "7.389457523822784",
         "AUDSGD"
        ],
        [
         "31",
         "y_low",
         "2.4174385",
         "7.402374595403671",
         "AUDSGD"
        ],
        [
         "32",
         "overall",
         "2.4177957",
         "7.395916059613228",
         "AUDSGD"
        ],
        [
         "33",
         "y_high",
         "1.303927",
         "0.09266706765629351",
         "USDJPY"
        ],
        [
         "34",
         "y_low",
         "1.3029164",
         "0.09325675200670958",
         "USDJPY"
        ],
        [
         "35",
         "overall",
         "1.3034217",
         "0.09296190983150154",
         "USDJPY"
        ],
        [
         "36",
         "y_high",
         "2.4228444",
         "9.496252983808517",
         "AUDUSD"
        ],
        [
         "37",
         "y_low",
         "2.4221032",
         "9.504640847444534",
         "AUDUSD"
        ],
        [
         "38",
         "overall",
         "2.422474",
         "9.500446915626526",
         "AUDUSD"
        ],
        [
         "39",
         "y_high",
         "1.927213",
         "0.08072652854025364",
         "EURJPY"
        ],
        [
         "40",
         "y_low",
         "1.9232192",
         "0.0803265837021172",
         "EURJPY"
        ],
        [
         "41",
         "overall",
         "1.9252161",
         "0.08052655612118542",
         "EURJPY"
        ],
        [
         "42",
         "y_high",
         "2.610228",
         "0.08759943302720785",
         "GBPJPY"
        ],
        [
         "43",
         "y_low",
         "2.6065865",
         "0.08949357434175909",
         "GBPJPY"
        ],
        [
         "44",
         "overall",
         "2.6084073",
         "0.08854650368448347",
         "GBPJPY"
        ],
        [
         "45",
         "y_high",
         "2.141945",
         "4.0582574903965",
         "overall"
        ],
        [
         "46",
         "y_low",
         "2.14087",
         "4.061438888311386",
         "overall"
        ],
        [
         "47",
         "overall",
         "2.1414075",
         "4.059848189353943",
         "overall"
        ]
       ],
       "shape": {
        "columns": 4,
        "rows": 48
       }
      },
      "text/html": [
       "<div>\n",
       "<style scoped>\n",
       "    .dataframe tbody tr th:only-of-type {\n",
       "        vertical-align: middle;\n",
       "    }\n",
       "\n",
       "    .dataframe tbody tr th {\n",
       "        vertical-align: top;\n",
       "    }\n",
       "\n",
       "    .dataframe thead th {\n",
       "        text-align: right;\n",
       "    }\n",
       "</style>\n",
       "<table border=\"1\" class=\"dataframe\">\n",
       "  <thead>\n",
       "    <tr style=\"text-align: right;\">\n",
       "      <th></th>\n",
       "      <th>target</th>\n",
       "      <th>RMSE</th>\n",
       "      <th>MAPE</th>\n",
       "      <th>currency</th>\n",
       "    </tr>\n",
       "  </thead>\n",
       "  <tbody>\n",
       "    <tr>\n",
       "      <th>0</th>\n",
       "      <td>y_high</td>\n",
       "      <td>0.082075</td>\n",
       "      <td>0.063687</td>\n",
       "      <td>AUDJPY</td>\n",
       "    </tr>\n",
       "    <tr>\n",
       "      <th>1</th>\n",
       "      <td>y_low</td>\n",
       "      <td>0.086743</td>\n",
       "      <td>0.061543</td>\n",
       "      <td>AUDJPY</td>\n",
       "    </tr>\n",
       "    <tr>\n",
       "      <th>2</th>\n",
       "      <td>overall</td>\n",
       "      <td>0.084409</td>\n",
       "      <td>0.062615</td>\n",
       "      <td>AUDJPY</td>\n",
       "    </tr>\n",
       "    <tr>\n",
       "      <th>3</th>\n",
       "      <td>y_high</td>\n",
       "      <td>2.409748</td>\n",
       "      <td>5.301706</td>\n",
       "      <td>EURUSD</td>\n",
       "    </tr>\n",
       "    <tr>\n",
       "      <th>4</th>\n",
       "      <td>y_low</td>\n",
       "      <td>2.409011</td>\n",
       "      <td>5.299651</td>\n",
       "      <td>EURUSD</td>\n",
       "    </tr>\n",
       "    <tr>\n",
       "      <th>5</th>\n",
       "      <td>overall</td>\n",
       "      <td>2.409379</td>\n",
       "      <td>5.300679</td>\n",
       "      <td>EURUSD</td>\n",
       "    </tr>\n",
       "    <tr>\n",
       "      <th>6</th>\n",
       "      <td>y_high</td>\n",
       "      <td>2.424486</td>\n",
       "      <td>10.541230</td>\n",
       "      <td>NZDUSD</td>\n",
       "    </tr>\n",
       "    <tr>\n",
       "      <th>7</th>\n",
       "      <td>y_low</td>\n",
       "      <td>2.423739</td>\n",
       "      <td>10.552417</td>\n",
       "      <td>NZDUSD</td>\n",
       "    </tr>\n",
       "    <tr>\n",
       "      <th>8</th>\n",
       "      <td>overall</td>\n",
       "      <td>2.424112</td>\n",
       "      <td>10.546823</td>\n",
       "      <td>NZDUSD</td>\n",
       "    </tr>\n",
       "    <tr>\n",
       "      <th>9</th>\n",
       "      <td>y_high</td>\n",
       "      <td>2.393940</td>\n",
       "      <td>3.449582</td>\n",
       "      <td>EURAUD</td>\n",
       "    </tr>\n",
       "    <tr>\n",
       "      <th>10</th>\n",
       "      <td>y_low</td>\n",
       "      <td>2.393257</td>\n",
       "      <td>3.451937</td>\n",
       "      <td>EURAUD</td>\n",
       "    </tr>\n",
       "    <tr>\n",
       "      <th>11</th>\n",
       "      <td>overall</td>\n",
       "      <td>2.393599</td>\n",
       "      <td>3.450760</td>\n",
       "      <td>EURAUD</td>\n",
       "    </tr>\n",
       "    <tr>\n",
       "      <th>12</th>\n",
       "      <td>y_high</td>\n",
       "      <td>2.419059</td>\n",
       "      <td>7.723331</td>\n",
       "      <td>USDCHF</td>\n",
       "    </tr>\n",
       "    <tr>\n",
       "      <th>13</th>\n",
       "      <td>y_low</td>\n",
       "      <td>2.418327</td>\n",
       "      <td>7.735547</td>\n",
       "      <td>USDCHF</td>\n",
       "    </tr>\n",
       "    <tr>\n",
       "      <th>14</th>\n",
       "      <td>overall</td>\n",
       "      <td>2.418693</td>\n",
       "      <td>7.729439</td>\n",
       "      <td>USDCHF</td>\n",
       "    </tr>\n",
       "    <tr>\n",
       "      <th>15</th>\n",
       "      <td>y_high</td>\n",
       "      <td>2.405103</td>\n",
       "      <td>4.581165</td>\n",
       "      <td>GBPUSD</td>\n",
       "    </tr>\n",
       "    <tr>\n",
       "      <th>16</th>\n",
       "      <td>y_low</td>\n",
       "      <td>2.404363</td>\n",
       "      <td>4.584090</td>\n",
       "      <td>GBPUSD</td>\n",
       "    </tr>\n",
       "    <tr>\n",
       "      <th>17</th>\n",
       "      <td>overall</td>\n",
       "      <td>2.404733</td>\n",
       "      <td>4.582627</td>\n",
       "      <td>GBPUSD</td>\n",
       "    </tr>\n",
       "    <tr>\n",
       "      <th>18</th>\n",
       "      <td>y_high</td>\n",
       "      <td>0.480675</td>\n",
       "      <td>0.059863</td>\n",
       "      <td>SGDJPY</td>\n",
       "    </tr>\n",
       "    <tr>\n",
       "      <th>19</th>\n",
       "      <td>y_low</td>\n",
       "      <td>0.478866</td>\n",
       "      <td>0.058820</td>\n",
       "      <td>SGDJPY</td>\n",
       "    </tr>\n",
       "    <tr>\n",
       "      <th>20</th>\n",
       "      <td>overall</td>\n",
       "      <td>0.479770</td>\n",
       "      <td>0.059341</td>\n",
       "      <td>SGDJPY</td>\n",
       "    </tr>\n",
       "    <tr>\n",
       "      <th>21</th>\n",
       "      <td>y_high</td>\n",
       "      <td>2.417467</td>\n",
       "      <td>7.147627</td>\n",
       "      <td>EURGBP</td>\n",
       "    </tr>\n",
       "    <tr>\n",
       "      <th>22</th>\n",
       "      <td>y_low</td>\n",
       "      <td>2.416726</td>\n",
       "      <td>7.144406</td>\n",
       "      <td>EURGBP</td>\n",
       "    </tr>\n",
       "    <tr>\n",
       "      <th>23</th>\n",
       "      <td>overall</td>\n",
       "      <td>2.417096</td>\n",
       "      <td>7.146017</td>\n",
       "      <td>EURGBP</td>\n",
       "    </tr>\n",
       "    <tr>\n",
       "      <th>24</th>\n",
       "      <td>y_high</td>\n",
       "      <td>2.404486</td>\n",
       "      <td>4.482730</td>\n",
       "      <td>USDCAD</td>\n",
       "    </tr>\n",
       "    <tr>\n",
       "      <th>25</th>\n",
       "      <td>y_low</td>\n",
       "      <td>2.403754</td>\n",
       "      <td>4.482416</td>\n",
       "      <td>USDCAD</td>\n",
       "    </tr>\n",
       "    <tr>\n",
       "      <th>26</th>\n",
       "      <td>overall</td>\n",
       "      <td>2.404120</td>\n",
       "      <td>4.482573</td>\n",
       "      <td>USDCAD</td>\n",
       "    </tr>\n",
       "    <tr>\n",
       "      <th>27</th>\n",
       "      <td>y_high</td>\n",
       "      <td>1.989423</td>\n",
       "      <td>0.376237</td>\n",
       "      <td>USDZAR</td>\n",
       "    </tr>\n",
       "    <tr>\n",
       "      <th>28</th>\n",
       "      <td>y_low</td>\n",
       "      <td>1.989572</td>\n",
       "      <td>0.380676</td>\n",
       "      <td>USDZAR</td>\n",
       "    </tr>\n",
       "    <tr>\n",
       "      <th>29</th>\n",
       "      <td>overall</td>\n",
       "      <td>1.989497</td>\n",
       "      <td>0.378457</td>\n",
       "      <td>USDZAR</td>\n",
       "    </tr>\n",
       "    <tr>\n",
       "      <th>30</th>\n",
       "      <td>y_high</td>\n",
       "      <td>2.418153</td>\n",
       "      <td>7.389458</td>\n",
       "      <td>AUDSGD</td>\n",
       "    </tr>\n",
       "    <tr>\n",
       "      <th>31</th>\n",
       "      <td>y_low</td>\n",
       "      <td>2.417439</td>\n",
       "      <td>7.402375</td>\n",
       "      <td>AUDSGD</td>\n",
       "    </tr>\n",
       "    <tr>\n",
       "      <th>32</th>\n",
       "      <td>overall</td>\n",
       "      <td>2.417796</td>\n",
       "      <td>7.395916</td>\n",
       "      <td>AUDSGD</td>\n",
       "    </tr>\n",
       "    <tr>\n",
       "      <th>33</th>\n",
       "      <td>y_high</td>\n",
       "      <td>1.303927</td>\n",
       "      <td>0.092667</td>\n",
       "      <td>USDJPY</td>\n",
       "    </tr>\n",
       "    <tr>\n",
       "      <th>34</th>\n",
       "      <td>y_low</td>\n",
       "      <td>1.302916</td>\n",
       "      <td>0.093257</td>\n",
       "      <td>USDJPY</td>\n",
       "    </tr>\n",
       "    <tr>\n",
       "      <th>35</th>\n",
       "      <td>overall</td>\n",
       "      <td>1.303422</td>\n",
       "      <td>0.092962</td>\n",
       "      <td>USDJPY</td>\n",
       "    </tr>\n",
       "    <tr>\n",
       "      <th>36</th>\n",
       "      <td>y_high</td>\n",
       "      <td>2.422844</td>\n",
       "      <td>9.496253</td>\n",
       "      <td>AUDUSD</td>\n",
       "    </tr>\n",
       "    <tr>\n",
       "      <th>37</th>\n",
       "      <td>y_low</td>\n",
       "      <td>2.422103</td>\n",
       "      <td>9.504641</td>\n",
       "      <td>AUDUSD</td>\n",
       "    </tr>\n",
       "    <tr>\n",
       "      <th>38</th>\n",
       "      <td>overall</td>\n",
       "      <td>2.422474</td>\n",
       "      <td>9.500447</td>\n",
       "      <td>AUDUSD</td>\n",
       "    </tr>\n",
       "    <tr>\n",
       "      <th>39</th>\n",
       "      <td>y_high</td>\n",
       "      <td>1.927213</td>\n",
       "      <td>0.080727</td>\n",
       "      <td>EURJPY</td>\n",
       "    </tr>\n",
       "    <tr>\n",
       "      <th>40</th>\n",
       "      <td>y_low</td>\n",
       "      <td>1.923219</td>\n",
       "      <td>0.080327</td>\n",
       "      <td>EURJPY</td>\n",
       "    </tr>\n",
       "    <tr>\n",
       "      <th>41</th>\n",
       "      <td>overall</td>\n",
       "      <td>1.925216</td>\n",
       "      <td>0.080527</td>\n",
       "      <td>EURJPY</td>\n",
       "    </tr>\n",
       "    <tr>\n",
       "      <th>42</th>\n",
       "      <td>y_high</td>\n",
       "      <td>2.610228</td>\n",
       "      <td>0.087599</td>\n",
       "      <td>GBPJPY</td>\n",
       "    </tr>\n",
       "    <tr>\n",
       "      <th>43</th>\n",
       "      <td>y_low</td>\n",
       "      <td>2.606586</td>\n",
       "      <td>0.089494</td>\n",
       "      <td>GBPJPY</td>\n",
       "    </tr>\n",
       "    <tr>\n",
       "      <th>44</th>\n",
       "      <td>overall</td>\n",
       "      <td>2.608407</td>\n",
       "      <td>0.088547</td>\n",
       "      <td>GBPJPY</td>\n",
       "    </tr>\n",
       "    <tr>\n",
       "      <th>45</th>\n",
       "      <td>y_high</td>\n",
       "      <td>2.141945</td>\n",
       "      <td>4.058257</td>\n",
       "      <td>overall</td>\n",
       "    </tr>\n",
       "    <tr>\n",
       "      <th>46</th>\n",
       "      <td>y_low</td>\n",
       "      <td>2.140870</td>\n",
       "      <td>4.061439</td>\n",
       "      <td>overall</td>\n",
       "    </tr>\n",
       "    <tr>\n",
       "      <th>47</th>\n",
       "      <td>overall</td>\n",
       "      <td>2.141407</td>\n",
       "      <td>4.059848</td>\n",
       "      <td>overall</td>\n",
       "    </tr>\n",
       "  </tbody>\n",
       "</table>\n",
       "</div>"
      ],
      "text/plain": [
       "     target      RMSE       MAPE currency\n",
       "0    y_high  0.082075   0.063687   AUDJPY\n",
       "1     y_low  0.086743   0.061543   AUDJPY\n",
       "2   overall  0.084409   0.062615   AUDJPY\n",
       "3    y_high  2.409748   5.301706   EURUSD\n",
       "4     y_low  2.409011   5.299651   EURUSD\n",
       "5   overall  2.409379   5.300679   EURUSD\n",
       "6    y_high  2.424486  10.541230   NZDUSD\n",
       "7     y_low  2.423739  10.552417   NZDUSD\n",
       "8   overall  2.424112  10.546823   NZDUSD\n",
       "9    y_high  2.393940   3.449582   EURAUD\n",
       "10    y_low  2.393257   3.451937   EURAUD\n",
       "11  overall  2.393599   3.450760   EURAUD\n",
       "12   y_high  2.419059   7.723331   USDCHF\n",
       "13    y_low  2.418327   7.735547   USDCHF\n",
       "14  overall  2.418693   7.729439   USDCHF\n",
       "15   y_high  2.405103   4.581165   GBPUSD\n",
       "16    y_low  2.404363   4.584090   GBPUSD\n",
       "17  overall  2.404733   4.582627   GBPUSD\n",
       "18   y_high  0.480675   0.059863   SGDJPY\n",
       "19    y_low  0.478866   0.058820   SGDJPY\n",
       "20  overall  0.479770   0.059341   SGDJPY\n",
       "21   y_high  2.417467   7.147627   EURGBP\n",
       "22    y_low  2.416726   7.144406   EURGBP\n",
       "23  overall  2.417096   7.146017   EURGBP\n",
       "24   y_high  2.404486   4.482730   USDCAD\n",
       "25    y_low  2.403754   4.482416   USDCAD\n",
       "26  overall  2.404120   4.482573   USDCAD\n",
       "27   y_high  1.989423   0.376237   USDZAR\n",
       "28    y_low  1.989572   0.380676   USDZAR\n",
       "29  overall  1.989497   0.378457   USDZAR\n",
       "30   y_high  2.418153   7.389458   AUDSGD\n",
       "31    y_low  2.417439   7.402375   AUDSGD\n",
       "32  overall  2.417796   7.395916   AUDSGD\n",
       "33   y_high  1.303927   0.092667   USDJPY\n",
       "34    y_low  1.302916   0.093257   USDJPY\n",
       "35  overall  1.303422   0.092962   USDJPY\n",
       "36   y_high  2.422844   9.496253   AUDUSD\n",
       "37    y_low  2.422103   9.504641   AUDUSD\n",
       "38  overall  2.422474   9.500447   AUDUSD\n",
       "39   y_high  1.927213   0.080727   EURJPY\n",
       "40    y_low  1.923219   0.080327   EURJPY\n",
       "41  overall  1.925216   0.080527   EURJPY\n",
       "42   y_high  2.610228   0.087599   GBPJPY\n",
       "43    y_low  2.606586   0.089494   GBPJPY\n",
       "44  overall  2.608407   0.088547   GBPJPY\n",
       "45   y_high  2.141945   4.058257  overall\n",
       "46    y_low  2.140870   4.061439  overall\n",
       "47  overall  2.141407   4.059848  overall"
      ]
     },
     "execution_count": 8,
     "metadata": {},
     "output_type": "execute_result"
    }
   ],
   "source": [
    "evaluator_b = Evaluator(preds_b)\n",
    "results_b = evaluator_b.evaluate_all()\n",
    "results_b"
   ]
  },
  {
   "cell_type": "markdown",
   "id": "a9433f8b",
   "metadata": {},
   "source": [
    "\n",
    "These results prove that the regression approach learns effectively and consistently outperforms the baseline both in magnitude accuracy and relative error terms.\n"
   ]
  },
  {
   "cell_type": "markdown",
   "id": "36c05aed",
   "metadata": {},
   "source": [
    "# Overall Conclusion and Limitations"
   ]
  },
  {
   "cell_type": "markdown",
   "id": "f197aa6e",
   "metadata": {},
   "source": [
    "This project introduced a systematic model for forecasting currencies' next hour extrema, combining feature engineering, sequence-based regression modeling, and an evaluation protocol.\n",
    "\n",
    "Compared to a simple rule-based benchmark, our model delivered over 50% lower RMSE and 70% lower MAPE demonstrating its ability to generalize and extract meaningful market structure. \n",
    "\n",
    "However, the framework remains limited by its reliance on past price-based features, which may not fully capture regime shifts or macroeconomic drivers. Additionally, the downsampling tradeoff, while improving training efficiency, could lead to minor information loss during high-volatility periods. It is also worth mentioning that the model needs further hyperparameter tuning like the number of estimators or the length of data sequence for instance to get optimal figures for each currency. Moreover, the evaluation process should incorporate more rigorous validation workflows beyond simple purged cross-validation, to better assess the model’s true predictive edge under diverse market conditions. \n",
    "\n",
    "Altogether, these steps would help make the model more reliable and better suited for real forecasting.\n"
   ]
  }
 ],
 "metadata": {
  "kernelspec": {
   "display_name": "Python 3",
   "language": "python",
   "name": "python3"
  },
  "language_info": {
   "codemirror_mode": {
    "name": "ipython",
    "version": 3
   },
   "file_extension": ".py",
   "mimetype": "text/x-python",
   "name": "python",
   "nbconvert_exporter": "python",
   "pygments_lexer": "ipython3",
   "version": "3.10.4"
  }
 },
 "nbformat": 4,
 "nbformat_minor": 5
}
